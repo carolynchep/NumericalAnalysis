{
  "nbformat": 4,
  "nbformat_minor": 0,
  "metadata": {
    "colab": {
      "provenance": [],
      "include_colab_link": true
    },
    "kernelspec": {
      "name": "python3",
      "display_name": "Python 3"
    },
    "language_info": {
      "name": "python"
    }
  },
  "cells": [
    {
      "cell_type": "markdown",
      "metadata": {
        "id": "view-in-github",
        "colab_type": "text"
      },
      "source": [
        "<a href=\"https://colab.research.google.com/github/carolynchep/NumericalAnalysis/blob/main/LU_Factorization.ipynb\" target=\"_parent\"><img src=\"https://colab.research.google.com/assets/colab-badge.svg\" alt=\"Open In Colab\"/></a>"
      ]
    },
    {
      "cell_type": "markdown",
      "source": [
        "**Solving systems of linear equations: LU Factorization**\n",
        "\n",
        "Carolyne: collaborated with Clare and Ethan"
      ],
      "metadata": {
        "id": "Rrah2hgLTdwP"
      }
    },
    {
      "cell_type": "markdown",
      "source": [
        "## $LU$ factorization"
      ],
      "metadata": {
        "id": "jzdDErDdEkEd"
      }
    },
    {
      "cell_type": "markdown",
      "source": [
        "First, practice with the myLU program to find the $LU$ decomoposition of $$A = \\begin{bmatrix} 4 & 5  & 16\\\\ -4 &  3 &  2\\\\ 0 &  8 &  5 \\end{bmatrix}.$$ The MyLU program is given below. You will need to add the lines of code to enter the matrix $A$, run the program, and print your results."
      ],
      "metadata": {
        "id": "BtHqBa4zTo3M"
      }
    },
    {
      "cell_type": "code",
      "execution_count": 3,
      "metadata": {
        "id": "j-yk24oBEOtl",
        "colab": {
          "base_uri": "https://localhost:8080/"
        },
        "outputId": "e0ae0544-1b97-4ce4-d658-10ba45aa4b72"
      },
      "outputs": [
        {
          "output_type": "stream",
          "name": "stdout",
          "text": [
            "L=\n",
            " [[ 1.  0.  0.]\n",
            " [-1.  1.  0.]\n",
            " [ 0.  1.  1.]]\n",
            "U=\n",
            " [[  4   5  16]\n",
            " [  0   8  18]\n",
            " [  0   0 -13]]\n",
            "L*U=\n",
            " [[ 4.  5. 16.]\n",
            " [-4.  3.  2.]\n",
            " [ 0.  8.  5.]]\n"
          ]
        }
      ],
      "source": [
        "import numpy as np\n",
        "\n",
        "def MyLU(A):\n",
        "  n = A.shape[0] # get the dimension of the matrix A\n",
        "  L = np.matrix( np.identity(n) ) # Build the identity part L\n",
        "  U = A # start a placeholder for the U matrix\n",
        "  for j in range(0,n-1): # counter for column\n",
        "    for i in range(j+1,n): #  counter for row\n",
        "        mult = A[i,j] / A[j,j] # the multiplication factor for row replacement\n",
        "        U[i, j+1:n] = U[i, j+1:n] - mult * U[j,j+1:n]\n",
        "        L[i,j] = mult # keep track of row replacements in L\n",
        "        U[i,j] = 0 # build U to be upper triangular\n",
        "  return L, U\n",
        "\n",
        "A =np.matrix([[4,5,16],[-4,3,2],[0,8,5]])\n",
        "L,U=MyLU(A)\n",
        "print(\"L=\\n\",L)\n",
        "print(\"U=\\n\",U)\n",
        "print(\"L*U=\\n\",L*U)"
      ]
    },
    {
      "cell_type": "markdown",
      "source": [
        "## Forward substitution method"
      ],
      "metadata": {
        "id": "o8M3LQpjUEig"
      }
    },
    {
      "cell_type": "markdown",
      "source": [
        "Try the lsolve program using the matrix $L$ that you found in the example above, and $b = \\begin{bmatrix} 10 \\\\ 4 \\\\ -5 \\end{bmatrix}$. Call the solution $y$ (you will need $y$ for the next task). The lsolve program is given below. You will need to add lines of code to enter $L$, $b$, run the program, and print your results."
      ],
      "metadata": {
        "id": "8jXS9oYxUIDK"
      }
    },
    {
      "cell_type": "code",
      "source": [
        "def lsolve(L, b):\n",
        "    L = np.matrix(L) # make sure L is the correct data type\n",
        "    n = b.size # n is the size of b\n",
        "    y = np.matrix( np.zeros( (n,1)) ) # vector in R^n of all zeros\n",
        "    for i in range(n):\n",
        "        # start the loop by assigning y to the value on the right\n",
        "        y[i] = b[i]\n",
        "        for j in range(i): # now adjust y\n",
        "            y[i] = y[i] - L[i,j] * y[j]\n",
        "    return(y)\n",
        "\n",
        "L=np.matrix([[1,0,0],[-1,1,0],[0,1,1]])\n",
        "b=np.matrix([[10],[4],[-5]])\n",
        "y=lsolve(L,b)\n",
        "print(y)"
      ],
      "metadata": {
        "id": "gY5bOL15FqRR",
        "colab": {
          "base_uri": "https://localhost:8080/"
        },
        "outputId": "f2064bdd-78f3-4070-e737-8ffad03adfe6"
      },
      "execution_count": 4,
      "outputs": [
        {
          "output_type": "stream",
          "name": "stdout",
          "text": [
            "[[ 10.]\n",
            " [ 14.]\n",
            " [-19.]]\n"
          ]
        }
      ]
    },
    {
      "cell_type": "markdown",
      "source": [
        "## Backward substitution method"
      ],
      "metadata": {
        "id": "MQMdgj3NVflE"
      }
    },
    {
      "cell_type": "markdown",
      "source": [
        "First, **by hand do the forward substitution method to solve $Ux = y$**, where $U$ is the matrix you found from running MyLU, and $y$ is the vector that you found from running lsolve."
      ],
      "metadata": {
        "id": "YbbGSHLDVk8J"
      }
    },
    {
      "cell_type": "markdown",
      "source": [
        "### Backward substitution algorithm\n",
        "\n",
        "The following code solves the problem $Ux = y$ using backward substitution. The matrix $U$ is assumed to be upper triangular. You’ll notice that most of this code is incomplete. It is your job to complete this code, and the next exercise should help."
      ],
      "metadata": {
        "id": "8vw5Y8UBV013"
      }
    },
    {
      "cell_type": "code",
      "source": [
        "#Exercise 4.33\n",
        "def usolve(U, y):\n",
        "    U = np.matrix(U)\n",
        "    n = y.size\n",
        "    x = np.matrix( np.zeros( (n,1)))\n",
        "    for i in range(n-1, -1, -1):     # what should we be looping over?\n",
        "        x[i] = y[i]/U[i,i]      # what should we be dividing by?\n",
        "        for j in range(n-1, i, -1): # what should we be looping over:\n",
        "            x[i] = x[i] - U[i,j] * x[j] / U[i,i]# complete this line\n",
        "             # ... what does the previous line do?\n",
        "    return(x)\n",
        "\n",
        "U=np.matrix([[1,0,0],[-1,1,0],[0,1,1]])\n",
        "y=np.matrix([[10],[4],[-5]])\n",
        "x=usolve(U,y)\n",
        "print(x)"
      ],
      "metadata": {
        "id": "-7-FhSWsV0HA",
        "colab": {
          "base_uri": "https://localhost:8080/"
        },
        "outputId": "d09f2a71-e7de-400a-a62d-b9d986a01f61"
      },
      "execution_count": 14,
      "outputs": [
        {
          "output_type": "stream",
          "name": "stdout",
          "text": [
            "[[10.]\n",
            " [ 4.]\n",
            " [-5.]]\n"
          ]
        }
      ]
    },
    {
      "cell_type": "code",
      "source": [
        "#Exercise 4.79\n",
        "A=np.random.randn(5,5)\n",
        "print(MyLU(A))\n",
        "def detSolve(A):\n",
        "  A=np.matrix(A)\n",
        "  L,U=MyLU(A)\n",
        "  n=len(U)\n",
        "  detL=1\n",
        "  detU=1\n",
        "  for i in range(n):\n",
        "    detL *= L[i,i]\n",
        "    detU *= U[i,i]\n",
        "  detA= detL*detU\n",
        "  return detA\n",
        "print(detSolve(A))\n",
        "print(np.linalg.det(A))"
      ],
      "metadata": {
        "colab": {
          "base_uri": "https://localhost:8080/"
        },
        "id": "68gYmxzctvdg",
        "outputId": "9efe16af-079a-4423-e478-04f2fd6ce924"
      },
      "execution_count": 15,
      "outputs": [
        {
          "output_type": "stream",
          "name": "stdout",
          "text": [
            "(matrix([[ 1.        ,  0.        ,  0.        ,  0.        ,  0.        ],\n",
            "        [ 0.30240547,  1.        ,  0.        ,  0.        ,  0.        ],\n",
            "        [-0.25529688,  3.10752377,  1.        ,  0.        ,  0.        ],\n",
            "        [-0.36683851, -2.61728094, -2.13768851,  1.        ,  0.        ],\n",
            "        [ 0.70551208,  0.63612618,  1.68173835, -0.93301357,  1.        ]]), array([[ -1.91787195,  -0.04987747,   1.36690106,  -0.62332605,\n",
            "         -1.51030095],\n",
            "       [  0.        ,   0.68395983,   0.25649879,   1.64449623,\n",
            "         -0.84504155],\n",
            "       [  0.        ,   0.        ,  -1.08047277,  -6.46960742,\n",
            "          2.08931159],\n",
            "       [  0.        ,   0.        ,   0.        , -10.3513371 ,\n",
            "          2.23310149],\n",
            "       [  0.        ,   0.        ,   0.        ,   0.        ,\n",
            "          0.73575699]]))\n",
            "-10.794309717021976\n",
            "-10.794309717021978\n"
          ]
        }
      ]
    },
    {
      "cell_type": "code",
      "source": [
        "#4.80\n",
        "import numpy as np\n",
        "import random\n",
        "import matplotlib.pyplot as plt\n",
        "\n",
        "N=[]\n",
        "errorlist = []\n",
        "for i in range(50):\n",
        "  #n= random.randrange(150)\n",
        "  A = np.matrix( np.random.randn(i,i) )  #a random matrix  A of size  n×n.\n",
        "  b = np.matrix( np.random.randn(i,1) )  # a random vector b in R^n\n",
        "  n = len(A)\n",
        "  # using myLU\n",
        "  L,U=MyLU(A)\n",
        "  y=lsolve(L,b)\n",
        "  x=usolve(U,y)\n",
        "  exact = np.linalg.solve(A,b) # Find Python’s answer to the problem  Ax=b=0\n",
        "  error=np.linalg.norm(x - exact)  #Find the error between your answer and the exact answer using the code\n",
        "  errorf = error. astype(int)\n",
        "  errorlist.append(errorf)\n",
        "  N.append(n)\n",
        "\n",
        "\n",
        "\n",
        "\n",
        "#that shows how the error behaves as the size of the problem changes\n",
        "\n",
        "plt.semilogy(N, errorlist,'r')\n",
        "\n",
        "#Conculsion: As the n value increases the error increases. this tells us that the LU decompostion\n"
      ],
      "metadata": {
        "id": "BheZaMYRwaho",
        "colab": {
          "base_uri": "https://localhost:8080/",
          "height": 447
        },
        "outputId": "fc6e3cb2-ae48-4ad3-e89c-4209b9d819c5"
      },
      "execution_count": 16,
      "outputs": [
        {
          "output_type": "execute_result",
          "data": {
            "text/plain": [
              "[<matplotlib.lines.Line2D at 0x784458504670>]"
            ]
          },
          "metadata": {},
          "execution_count": 16
        },
        {
          "output_type": "display_data",
          "data": {
            "text/plain": [
              "<Figure size 640x480 with 1 Axes>"
            ],
            "image/png": "[encoded data removed]"
          },
          "metadata": {}
        }
      ]
    },
    {
      "cell_type": "code",
      "source": [],
      "metadata": {
        "id": "NletlgRwHkFy"
      },
      "execution_count": 16,
      "outputs": []
    }
  ]
}