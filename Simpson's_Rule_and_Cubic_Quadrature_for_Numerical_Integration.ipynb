{
  "nbformat": 4,
  "nbformat_minor": 0,
  "metadata": {
    "colab": {
      "provenance": [],
      "include_colab_link": true
    },
    "kernelspec": {
      "name": "python3",
      "display_name": "Python 3"
    },
    "language_info": {
      "name": "python"
    }
  },
  "cells": [
    {
      "cell_type": "markdown",
      "metadata": {
        "id": "view-in-github",
        "colab_type": "text"
      },
      "source": [
        "<a href=\"https://colab.research.google.com/github/carolynchep/NumericalAnalysis/blob/main/Simpson's_Rule_and_Cubic_Quadrature_for_Numerical_Integration.ipynb\" target=\"_parent\"><img src=\"https://colab.research.google.com/assets/colab-badge.svg\" alt=\"Open In Colab\"/></a>"
      ]
    },
    {
      "cell_type": "markdown",
      "source": [
        "Carolyne, Sokona, Cros, Jacob"
      ],
      "metadata": {
        "id": "Ulwp5eISk5Rk"
      }
    },
    {
      "cell_type": "markdown",
      "source": [
        "1) Show that Simpson’s rule is exact for f(x) = x^3. In a sentence or two,\n",
        "\n",
        "briefly state why this is somewhat of a surprise.\n",
        "\n",
        "\n",
        "I think whats suprising is that although, we used the quadrature rule to work exactly for constant, linear, and quadratic functions, it's EXACt for a cubic function as well, I wonder why, because that's not the case for #3, even though we changed the formula"
      ],
      "metadata": {
        "id": "xWBY6vQI1WN3"
      }
    },
    {
      "cell_type": "code",
      "execution_count": null,
      "metadata": {
        "colab": {
          "base_uri": "https://localhost:8080/"
        },
        "id": "2IzfpYpb1Dlz",
        "outputId": "ec4a5c56-cd2c-47de-9901-0201e2d1a9be"
      },
      "outputs": [
        {
          "output_type": "execute_result",
          "data": {
            "text/plain": [
              "20.249999999999996"
            ]
          },
          "metadata": {},
          "execution_count": 2
        }
      ],
      "source": [
        "#Simpsons rule\n",
        "import numpy as np\n",
        "\n",
        "def Simp(f,a,b,N):\n",
        "\n",
        "  #create lin space\n",
        "  x = np.linspace(a,b,N+1)\n",
        "\n",
        "  #define delta x\n",
        "  dx = x[1]-x[0]\n",
        "\n",
        "  #create an array with the areas A_j\n",
        "  #A=[]\n",
        "  A= [(dx/6) * (f(x[1:])+4*f((x[1:] + x[:-1])/2) + f(x[:-1]))] #fill in this formula using lists!\n",
        "\n",
        "\n",
        "  #sum up the areas A_j\n",
        "  I=np.sum(A)\n",
        "  return I\n",
        "\n",
        "f = lambda x: x**3\n",
        "\n",
        "a=0\n",
        "b=3\n",
        "N=10\n",
        "#Trap(f,a,b,N)\n",
        "Simp(f,a,b,N)"
      ]
    },
    {
      "cell_type": "markdown",
      "source": [
        "2) Replicate the process discussed in class to come up with a quadrature rule using piecewise cubic functions. Show all of the mathematics\n",
        "\n",
        "necessary to derive the algorithm. \\\\\n",
        "\n",
        "\n",
        "See attached google doc."
      ],
      "metadata": {
        "id": "kKEk85SP6EiH"
      }
    },
    {
      "cell_type": "markdown",
      "source": [
        "3) Check to see if your piecewise cubic approximate method derived in\n",
        "the previous question is exact for 4th degree polynomials."
      ],
      "metadata": {
        "id": "dV3egDrgA2EC"
      }
    },
    {
      "cell_type": "code",
      "source": [
        "import numpy as np\n",
        "import math\n",
        "\n",
        "#testing, no iterations\n",
        "\n",
        "def cubic(f,a,b):\n",
        "  A_1 = -( (a-b)*(a**2-4*a*b+b**2) ) / (4*(a-2*b)*(2*a-b))\n",
        "  A_2 = -(3*(a-b)**3) / (4*(a-2*b)*(2*a-b))\n",
        "  A_3 = -(3*(a-b)**3) / (4*(a-2*b)*(2*a-b))\n",
        "  A_4 = -( (a-b)*(a**2-4*a*b+b**2) ) / (4*(a-2*b)*(2*a-b))\n",
        "  return A_1 * f(a) + A_2 * f((a+b)/3) + A_3 * f((2*a+2*b)/3) + A_4 * f(b)\n",
        "\n",
        "f = lambda x: x**4 + 2*x**3 - 5*x**2 - 3*x + 4\n",
        "\n",
        "cubic(f,1,4)\n",
        "#exact = 216.6, so the error is 0.507%"
      ],
      "metadata": {
        "id": "R0VQawcFFsaN",
        "outputId": "04409ad1-7aec-4fb4-ef08-17a7308d88b5",
        "colab": {
          "base_uri": "https://localhost:8080/"
        }
      },
      "execution_count": null,
      "outputs": [
        {
          "output_type": "execute_result",
          "data": {
            "text/plain": [
              "48.60020249999999"
            ]
          },
          "metadata": {},
          "execution_count": 3
        }
      ]
    },
    {
      "cell_type": "markdown",
      "source": [],
      "metadata": {
        "id": "ztvukJg8BBqo"
      }
    },
    {
      "cell_type": "markdown",
      "source": [
        "  $A=[(dx/6)*((f(x[:-1])+ 4*f((f(x[1:])+ f(x[1:]))/2) + f(x[1:])))]$"
      ],
      "metadata": {
        "id": "F9s_DqYtT5Bw"
      }
    },
    {
      "cell_type": "markdown",
      "source": [
        "Question 4:"
      ],
      "metadata": {
        "id": "4E4o-738_mTa"
      }
    },
    {
      "cell_type": "code",
      "source": [
        "import numpy as np\n",
        "\n",
        "def cubic(f,a,b,N):\n",
        "  x = np.linspace(a,b,N+1)\n",
        "  h = x[1]-x[0]\n",
        "  Area = []\n",
        "\n",
        "#  A_1 = -( (a-b)*(a**2-4*a*b+b**2) ) / (4*(a-2*b)*(2*a-b))\n",
        "#  A_2 = -(3*(a-b)**3) / (4*(a-2*b)*(2*a-b))\n",
        "#  A_3 = -(3*(a-b)**3) / (4*(a-2*b)*(2*a-b))\n",
        "#  A_4 = -( (a-b)*(a**2-4*a*b+b**2) ) / (4*(a-2*b)*(2*a-b))\n",
        "\n",
        "#  A = [(dx/6) * (f(x[1:])+4*f((x[1:] + x[:-1])/2) + f(x[:-1]))] #fill in this formula using lists!\n",
        "\n",
        "#  for i in range(n):\n",
        "#    A.append( (f(x[i])+f(x[i+1]))/2 * h)\n",
        "\n",
        "\n",
        "f = lambda x : x**3\n",
        "cubic(f,1,4,100)"
      ],
      "metadata": {
        "id": "avr-NhsV_y0y",
        "colab": {
          "base_uri": "https://localhost:8080/"
        },
        "outputId": "d6586260-b87d-41d9-a26d-24a201ced2dd"
      },
      "execution_count": null,
      "outputs": [
        {
          "output_type": "execute_result",
          "data": {
            "text/plain": [
              "1.9125000000000019"
            ]
          },
          "metadata": {},
          "execution_count": 26
        }
      ]
    },
    {
      "cell_type": "markdown",
      "source": [
        "5) To answer the question, we graphed functions to analyse how polynomials of high degree work versus polynomials of low degree. \\\\\n",
        "The results showed that graphing a high degree polynomial returns a difficult graph to read and understand but the low degree polynomial function was more clear and it was quick to analyse."
      ],
      "metadata": {
        "id": "9wWHacHfxtTF"
      }
    }
  ]
}