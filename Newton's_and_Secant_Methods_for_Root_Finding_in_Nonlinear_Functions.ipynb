{
  "nbformat": 4,
  "nbformat_minor": 0,
  "metadata": {
    "colab": {
      "provenance": [],
      "include_colab_link": true
    },
    "kernelspec": {
      "name": "python3",
      "display_name": "Python 3"
    },
    "language_info": {
      "name": "python"
    }
  },
  "cells": [
    {
      "cell_type": "markdown",
      "metadata": {
        "id": "view-in-github",
        "colab_type": "text"
      },
      "source": [
        "<a href=\"https://colab.research.google.com/github/carolynchep/NumericalAnalysis/blob/main/Newton's_and_Secant_Methods_for_Root_Finding_in_Nonlinear_Functions.ipynb\" target=\"_parent\"><img src=\"https://colab.research.google.com/assets/colab-badge.svg\" alt=\"Open In Colab\"/></a>"
      ]
    },
    {
      "cell_type": "code",
      "execution_count": null,
      "metadata": {
        "colab": {
          "base_uri": "https://localhost:8080/"
        },
        "id": "yjiq5sHVlkjO",
        "outputId": "c8e2746a-3034-424e-92ab-f4185a816798"
      },
      "outputs": [
        {
          "output_type": "stream",
          "name": "stdout",
          "text": [
            "The root using Newton's method is -1.999908447265625\n"
          ]
        }
      ],
      "source": [
        "#2.39\n",
        "import numpy as np\n",
        "import matplotlib.pyplot as plt\n",
        "\n",
        "#check that f is differentiable on a given domain by hand\n",
        "\n",
        "def newton(f,df,x0,tol=1e-8):\n",
        "   x = x0\n",
        "   counter = 0\n",
        "   while np.abs(f(x))>tol and counter<1000:\n",
        "       x = (-f(x) + df(x)*(x))/df(x)\n",
        "       counter += 1 # check for runaway loops\n",
        "   print(\"The root using Newton's method is\", x)\n",
        "\n",
        "f = lambda x: x**2 + 4*x + 4\n",
        "df = lambda x: 2*x+4\n",
        "newton(f,df, 10)"
      ]
    },
    {
      "cell_type": "code",
      "source": [
        "#2.41\n",
        "import numpy as np\n",
        "import matplotlib.pyplot as plt\n",
        "\n",
        "#check that f is differentiable on a given domain by hand\n",
        "\n",
        "def newton(f,df,x0,tol=1e-8):\n",
        "  x = x0\n",
        "  counter = 0\n",
        "  while np.abs(f(x))>tol and counter<1000:\n",
        "    if (df(x0) == 0):\n",
        "      print(\"Pick a different x0\")\n",
        "      return False\n",
        "    else:\n",
        "      x = (-f(x) + df(x)*(x))/df(x)\n",
        "      counter += 1 # check for runaway loops\n",
        "  print(\"The root using Newton's method is\", x)\n",
        "\n",
        "f = lambda x: x**3 - 3\n",
        "df = lambda x: 3*x**2\n",
        "newton(f,df,0.1)"
      ],
      "metadata": {
        "colab": {
          "base_uri": "https://localhost:8080/"
        },
        "id": "b9GRoMfOtOrs",
        "outputId": "83e49976-164f-4d94-8972-ec40e2d69cca"
      },
      "execution_count": null,
      "outputs": [
        {
          "output_type": "stream",
          "name": "stdout",
          "text": [
            "The root using Newton's method is 1.4422495718031736\n"
          ]
        }
      ]
    },
    {
      "cell_type": "code",
      "source": [
        "#2.49\n",
        "import numpy as np\n",
        "import matplotlib.pyplot as plt\n",
        "\n",
        "def secant(f,x0,x1,tol=1e-8):\n",
        "  x = x0\n",
        "  counter = 0\n",
        "  while np.abs(f(x))>tol and counter<1000:\n",
        "    if f(x0) == f(x1):\n",
        "      break\n",
        "    else:\n",
        "      x2 = x0 - (x1-x0)*f(x0)/( f(x1) - f(x0) )\n",
        "      x0 = x1\n",
        "      x1 = x2\n",
        "  counter += 1 # check for runaway loops\n",
        "  print(\"The root using the Secant method is\", x2)\n",
        "\n",
        "f = lambda x: x**3 - 3\n",
        "secant(f,1, 1.5,0.1)"
      ],
      "metadata": {
        "colab": {
          "base_uri": "https://localhost:8080/"
        },
        "id": "rvgHmRV-87bC",
        "outputId": "27c619da-aa60-446f-b3ce-e6ccabc84184"
      },
      "execution_count": null,
      "outputs": [
        {
          "output_type": "stream",
          "name": "stdout",
          "text": [
            "The root using the Secant method is 1.4422495703074083\n"
          ]
        }
      ]
    }
  ]
}