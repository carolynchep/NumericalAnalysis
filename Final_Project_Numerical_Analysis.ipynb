{
  "nbformat": 4,
  "nbformat_minor": 0,
  "metadata": {
    "colab": {
      "provenance": [],
      "include_colab_link": true
    },
    "kernelspec": {
      "name": "python3",
      "display_name": "Python 3"
    },
    "language_info": {
      "name": "python"
    }
  },
  "cells": [
    {
      "cell_type": "markdown",
      "metadata": {
        "id": "view-in-github",
        "colab_type": "text"
      },
      "source": [
        "<a href=\"https://colab.research.google.com/github/carolynchep/NumericalAnalysis/blob/main/Final_Project_Numerical_Analysis.ipynb\" target=\"_parent\"><img src=\"https://colab.research.google.com/assets/colab-badge.svg\" alt=\"Open In Colab\"/></a>"
      ]
    },
    {
      "cell_type": "markdown",
      "source": [
        "**Final Project Part 1: Clare Moloney-Kolenberg, Carolyne Chepkemboi, Wyatt Bates, Ethan Wu**"
      ],
      "metadata": {
        "id": "aNSvldFCcgK6"
      }
    },
    {
      "cell_type": "markdown",
      "source": [
        "**Introduction**"
      ],
      "metadata": {
        "id": "6M3hIFUsJQvW"
      }
    },
    {
      "cell_type": "markdown",
      "source": [
        "This data set is from the World Health Organization and it provides information on new infections of HIV from 1991 to 2021. There are multiple accounts of this data dividing it up by country and male versus female, but we chose to focus on the total of the new global infections for both male and female combined. The main obejective of this project is to analyze the trends in the number of new infections from 1991 to 2021 and explain factors that might have contributed to the observations. We will also discuss the instantaneous rate of change in the numbers over time, which can be modeled by the derivative. \\\\\n",
        "Link to the data:\n",
        "https://apps.who.int/gho/data/node.main.HIVINCIDENCE?lang=en\n"
      ],
      "metadata": {
        "id": "G2PS8GEqSf2o"
      }
    },
    {
      "cell_type": "code",
      "source": [
        "import numpy as np\n",
        "import matplotlib.pyplot as plt\n",
        "import pandas as pd\n",
        "csv = pd.read_csv(\"data.csv\")\n",
        "csv\n",
        "x = csv.iloc[:,0]\n",
        "y = csv.iloc[:,1]\n",
        "x=np.array(x)\n",
        "y=np.array(y)\n",
        "\n",
        "x= x[::-1]\n",
        "y= y[::-1]\n",
        "\n",
        "\n",
        "plt.plot(x, y)\n",
        "\n",
        "plt.xlabel(\"Years from 2021\")\n",
        "plt.ylabel(\"Number of New Infections\")\n",
        "plt.title(\"Trend in New HIV Infections from 1990\")\n",
        "\n",
        "plt.show()"
      ],
      "metadata": {
        "colab": {
          "base_uri": "https://localhost:8080/",
          "height": 295
        },
        "id": "9MPQLhzST1-F",
        "outputId": "ba9bb375-c65f-4d3c-9ef9-0db8f0177e48"
      },
      "execution_count": null,
      "outputs": [
        {
          "output_type": "display_data",
          "data": {
            "text/plain": [
              "<Figure size 432x288 with 1 Axes>"
            ],
            "image/png": "[encoded data removed]"
          },
          "metadata": {
            "needs_background": "light"
          }
        }
      ]
    },
    {
      "cell_type": "markdown",
      "source": [
        "**Inference**\n"
      ],
      "metadata": {
        "id": "BegH7Av-Js4F"
      }
    },
    {
      "cell_type": "code",
      "source": [
        "csv"
      ],
      "metadata": {
        "colab": {
          "base_uri": "https://localhost:8080/",
          "height": 990
        },
        "id": "pXe5CjLxZFsx",
        "outputId": "0d609cc0-0480-437f-89e3-75534acc7f3a"
      },
      "execution_count": null,
      "outputs": [
        {
          "output_type": "execute_result",
          "data": {
            "text/plain": [
              "    2021  1500000\n",
              "0   2020  1500000\n",
              "1   2019  1600000\n",
              "2   2018  1700000\n",
              "3   2017  1700000\n",
              "4   2016  1800000\n",
              "5   2015  1900000\n",
              "6   2014  1900000\n",
              "7   2013  2000000\n",
              "8   2012  2000000\n",
              "9   2011  2100000\n",
              "10  2010  2200000\n",
              "11  2009  2200000\n",
              "12  2008  2300000\n",
              "13  2007  2400000\n",
              "14  2006  2400000\n",
              "15  2005  2500000\n",
              "16  2004  2600000\n",
              "17  2003  2600000\n",
              "18  2002  2700000\n",
              "19  2001  2800000\n",
              "20  2000  2900000\n",
              "21  1999  3000000\n",
              "22  1998  3100000\n",
              "23  1997  3200000\n",
              "24  1996  3200000\n",
              "25  1995  3200000\n",
              "26  1994  3100000\n",
              "27  1993  2900000\n",
              "28  1992  2700000\n",
              "29  1991  2400000"
            ],
            "text/html": [
              "\n",
              "  <div id=\"df-923b9597-26ae-49b6-a733-5a2953066a66\">\n",
              "    <div class=\"colab-df-container\">\n",
              "      <div>\n",
              "<style scoped>\n",
              "    .dataframe tbody tr th:only-of-type {\n",
              "        vertical-align: middle;\n",
              "    }\n",
              "\n",
              "    .dataframe tbody tr th {\n",
              "        vertical-align: top;\n",
              "    }\n",
              "\n",
              "    .dataframe thead th {\n",
              "        text-align: right;\n",
              "    }\n",
              "</style>\n",
              "<table border=\"1\" class=\"dataframe\">\n",
              "  <thead>\n",
              "    <tr style=\"text-align: right;\">\n",
              "      <th></th>\n",
              "      <th>2021</th>\n",
              "      <th>1500000</th>\n",
              "    </tr>\n",
              "  </thead>\n",
              "  <tbody>\n",
              "    <tr>\n",
              "      <th>0</th>\n",
              "      <td>2020</td>\n",
              "      <td>1500000</td>\n",
              "    </tr>\n",
              "    <tr>\n",
              "      <th>1</th>\n",
              "      <td>2019</td>\n",
              "      <td>1600000</td>\n",
              "    </tr>\n",
              "    <tr>\n",
              "      <th>2</th>\n",
              "      <td>2018</td>\n",
              "      <td>1700000</td>\n",
              "    </tr>\n",
              "    <tr>\n",
              "      <th>3</th>\n",
              "      <td>2017</td>\n",
              "      <td>1700000</td>\n",
              "    </tr>\n",
              "    <tr>\n",
              "      <th>4</th>\n",
              "      <td>2016</td>\n",
              "      <td>1800000</td>\n",
              "    </tr>\n",
              "    <tr>\n",
              "      <th>5</th>\n",
              "      <td>2015</td>\n",
              "      <td>1900000</td>\n",
              "    </tr>\n",
              "    <tr>\n",
              "      <th>6</th>\n",
              "      <td>2014</td>\n",
              "      <td>1900000</td>\n",
              "    </tr>\n",
              "    <tr>\n",
              "      <th>7</th>\n",
              "      <td>2013</td>\n",
              "      <td>2000000</td>\n",
              "    </tr>\n",
              "    <tr>\n",
              "      <th>8</th>\n",
              "      <td>2012</td>\n",
              "      <td>2000000</td>\n",
              "    </tr>\n",
              "    <tr>\n",
              "      <th>9</th>\n",
              "      <td>2011</td>\n",
              "      <td>2100000</td>\n",
              "    </tr>\n",
              "    <tr>\n",
              "      <th>10</th>\n",
              "      <td>2010</td>\n",
              "      <td>2200000</td>\n",
              "    </tr>\n",
              "    <tr>\n",
              "      <th>11</th>\n",
              "      <td>2009</td>\n",
              "      <td>2200000</td>\n",
              "    </tr>\n",
              "    <tr>\n",
              "      <th>12</th>\n",
              "      <td>2008</td>\n",
              "      <td>2300000</td>\n",
              "    </tr>\n",
              "    <tr>\n",
              "      <th>13</th>\n",
              "      <td>2007</td>\n",
              "      <td>2400000</td>\n",
              "    </tr>\n",
              "    <tr>\n",
              "      <th>14</th>\n",
              "      <td>2006</td>\n",
              "      <td>2400000</td>\n",
              "    </tr>\n",
              "    <tr>\n",
              "      <th>15</th>\n",
              "      <td>2005</td>\n",
              "      <td>2500000</td>\n",
              "    </tr>\n",
              "    <tr>\n",
              "      <th>16</th>\n",
              "      <td>2004</td>\n",
              "      <td>2600000</td>\n",
              "    </tr>\n",
              "    <tr>\n",
              "      <th>17</th>\n",
              "      <td>2003</td>\n",
              "      <td>2600000</td>\n",
              "    </tr>\n",
              "    <tr>\n",
              "      <th>18</th>\n",
              "      <td>2002</td>\n",
              "      <td>2700000</td>\n",
              "    </tr>\n",
              "    <tr>\n",
              "      <th>19</th>\n",
              "      <td>2001</td>\n",
              "      <td>2800000</td>\n",
              "    </tr>\n",
              "    <tr>\n",
              "      <th>20</th>\n",
              "      <td>2000</td>\n",
              "      <td>2900000</td>\n",
              "    </tr>\n",
              "    <tr>\n",
              "      <th>21</th>\n",
              "      <td>1999</td>\n",
              "      <td>3000000</td>\n",
              "    </tr>\n",
              "    <tr>\n",
              "      <th>22</th>\n",
              "      <td>1998</td>\n",
              "      <td>3100000</td>\n",
              "    </tr>\n",
              "    <tr>\n",
              "      <th>23</th>\n",
              "      <td>1997</td>\n",
              "      <td>3200000</td>\n",
              "    </tr>\n",
              "    <tr>\n",
              "      <th>24</th>\n",
              "      <td>1996</td>\n",
              "      <td>3200000</td>\n",
              "    </tr>\n",
              "    <tr>\n",
              "      <th>25</th>\n",
              "      <td>1995</td>\n",
              "      <td>3200000</td>\n",
              "    </tr>\n",
              "    <tr>\n",
              "      <th>26</th>\n",
              "      <td>1994</td>\n",
              "      <td>3100000</td>\n",
              "    </tr>\n",
              "    <tr>\n",
              "      <th>27</th>\n",
              "      <td>1993</td>\n",
              "      <td>2900000</td>\n",
              "    </tr>\n",
              "    <tr>\n",
              "      <th>28</th>\n",
              "      <td>1992</td>\n",
              "      <td>2700000</td>\n",
              "    </tr>\n",
              "    <tr>\n",
              "      <th>29</th>\n",
              "      <td>1991</td>\n",
              "      <td>2400000</td>\n",
              "    </tr>\n",
              "  </tbody>\n",
              "</table>\n",
              "</div>\n",
              "      <button class=\"colab-df-convert\" onclick=\"convertToInteractive('df-923b9597-26ae-49b6-a733-5a2953066a66')\"\n",
              "              title=\"Convert this dataframe to an interactive table.\"\n",
              "              style=\"display:none;\">\n",
              "        \n",
              "  <svg xmlns=\"http://www.w3.org/2000/svg\" height=\"24px\"viewBox=\"0 0 24 24\"\n",
              "       width=\"24px\">\n",
              "    <path d=\"M0 0h24v24H0V0z\" fill=\"none\"/>\n",
              "    <path d=\"M18.56 5.44l.94 2.06.94-2.06 2.06-.94-2.06-.94-.94-2.06-.94 2.06-2.06.94zm-11 1L8.5 8.5l.94-2.06 2.06-.94-2.06-.94L8.5 2.5l-.94 2.06-2.06.94zm10 10l.94 2.06.94-2.06 2.06-.94-2.06-.94-.94-2.06-.94 2.06-2.06.94z\"/><path d=\"M17.41 7.96l-1.37-1.37c-.4-.4-.92-.59-1.43-.59-.52 0-1.04.2-1.43.59L10.3 9.45l-7.72 7.72c-.78.78-.78 2.05 0 2.83L4 21.41c.39.39.9.59 1.41.59.51 0 1.02-.2 1.41-.59l7.78-7.78 2.81-2.81c.8-.78.8-2.07 0-2.86zM5.41 20L4 18.59l7.72-7.72 1.47 1.35L5.41 20z\"/>\n",
              "  </svg>\n",
              "      </button>\n",
              "      \n",
              "  <style>\n",
              "    .colab-df-container {\n",
              "      display:flex;\n",
              "      flex-wrap:wrap;\n",
              "      gap: 12px;\n",
              "    }\n",
              "\n",
              "    .colab-df-convert {\n",
              "      background-color: #E8F0FE;\n",
              "      border: none;\n",
              "      border-radius: 50%;\n",
              "      cursor: pointer;\n",
              "      display: none;\n",
              "      fill: #1967D2;\n",
              "      height: 32px;\n",
              "      padding: 0 0 0 0;\n",
              "      width: 32px;\n",
              "    }\n",
              "\n",
              "    .colab-df-convert:hover {\n",
              "      background-color: #E2EBFA;\n",
              "      box-shadow: 0px 1px 2px rgba(60, 64, 67, 0.3), 0px 1px 3px 1px rgba(60, 64, 67, 0.15);\n",
              "      fill: #174EA6;\n",
              "    }\n",
              "\n",
              "    [theme=dark] .colab-df-convert {\n",
              "      background-color: #3B4455;\n",
              "      fill: #D2E3FC;\n",
              "    }\n",
              "\n",
              "    [theme=dark] .colab-df-convert:hover {\n",
              "      background-color: #434B5C;\n",
              "      box-shadow: 0px 1px 3px 1px rgba(0, 0, 0, 0.15);\n",
              "      filter: drop-shadow(0px 1px 2px rgba(0, 0, 0, 0.3));\n",
              "      fill: #FFFFFF;\n",
              "    }\n",
              "  </style>\n",
              "\n",
              "      <script>\n",
              "        const buttonEl =\n",
              "          document.querySelector('#df-923b9597-26ae-49b6-a733-5a2953066a66 button.colab-df-convert');\n",
              "        buttonEl.style.display =\n",
              "          google.colab.kernel.accessAllowed ? 'block' : 'none';\n",
              "\n",
              "        async function convertToInteractive(key) {\n",
              "          const element = document.querySelector('#df-923b9597-26ae-49b6-a733-5a2953066a66');\n",
              "          const dataTable =\n",
              "            await google.colab.kernel.invokeFunction('convertToInteractive',\n",
              "                                                     [key], {});\n",
              "          if (!dataTable) return;\n",
              "\n",
              "          const docLinkHtml = 'Like what you see? Visit the ' +\n",
              "            '<a target=\"_blank\" href=https://colab.research.google.com/notebooks/data_table.ipynb>data table notebook</a>'\n",
              "            + ' to learn more about interactive tables.';\n",
              "          element.innerHTML = '';\n",
              "          dataTable['output_type'] = 'display_data';\n",
              "          await google.colab.output.renderOutput(dataTable, element);\n",
              "          const docLink = document.createElement('div');\n",
              "          docLink.innerHTML = docLinkHtml;\n",
              "          element.appendChild(docLink);\n",
              "        }\n",
              "      </script>\n",
              "    </div>\n",
              "  </div>\n",
              "  "
            ]
          },
          "metadata": {},
          "execution_count": 2
        }
      ]
    },
    {
      "cell_type": "markdown",
      "source": [
        "**Finding the average rate of change in the number of new infections**"
      ],
      "metadata": {
        "id": "wnums2c5JJSO"
      }
    },
    {
      "cell_type": "code",
      "source": [
        "import numpy as np\n",
        "import matplotlib.pyplot as plt\n",
        "import pandas as pd\n",
        "csv = pd.read_csv(\"data.csv\")\n",
        "x = csv.iloc[:,0]\n",
        "y = csv.iloc[:,1]\n",
        "x= np.array(x)\n",
        "y = np.array(y)\n",
        "\n",
        "x= x[::-1]\n",
        "y= y[::-1]\n",
        "\n",
        "def FirstDeriv(y,a,b,N):\n",
        "    #x = np.linspace(a,b,N+1) # Partition the interval [a,b] into N subintervals\n",
        "   # h = x[1] - x[0] # This finds h = Delta x\n",
        "    df = y[1:]-y[:-1]\n",
        "    return df\n",
        "\n",
        "\n",
        "#exact_df = lambda x: -54677*x + 112000000\n",
        "a = 1991\n",
        "b = 2021\n",
        "N = 30\n",
        "\n",
        "df = FirstDeriv(y,a,b,N)\n",
        "\n",
        "plt.figure(figsize=[12,8])\n",
        "plt.plot(x,y,'b',x[1:],df,'k-.')\n",
        "plt.grid()\n",
        "#plt.plot(x[1:-1], df)\n",
        "plt.legend(['f(x) = Trend in number of new infections','Rate of change'])\n",
        "plt.show()\n"
      ],
      "metadata": {
        "colab": {
          "base_uri": "https://localhost:8080/",
          "height": 494
        },
        "id": "7V2Ncd4IXxX1",
        "outputId": "acdbc887-f38a-4a36-edeb-5744921b2590"
      },
      "execution_count": null,
      "outputs": [
        {
          "output_type": "display_data",
          "data": {
            "text/plain": [
              "<Figure size 864x576 with 1 Axes>"
            ],
            "image/png": "[encoded data removed]"
          },
          "metadata": {
            "needs_background": "light"
          }
        }
      ]
    },
    {
      "cell_type": "markdown",
      "source": [
        "**Inference**"
      ],
      "metadata": {
        "id": "1U2iolVBJ6GO"
      }
    },
    {
      "cell_type": "code",
      "source": [
        "#Second derivative\n",
        "\n",
        "import numpy as np\n",
        "import matplotlib.pyplot as plt\n",
        "import pandas as pd\n",
        "csv = pd.read_csv(\"data.csv\")\n",
        "x = csv.iloc[:,0]\n",
        "y = csv.iloc[:,1]\n",
        "x= np.array(x)\n",
        "y = np.array(y)\n",
        "\n",
        "x= x[::-1]\n",
        "y= y[::-1]\n",
        "\n",
        "\n",
        "def SecondDeriv(y,a,b,N):\n",
        "    #x = np.linspace(a,b,N+1) # Partition the interval [a,b] into N subintervals\n",
        "    df2 = y[2:]-2*y[1:-1]+ y[:-2]\n",
        "    return df2\n",
        "\n",
        "\n",
        "a = 1991\n",
        "b = 2021\n",
        "N = 30\n",
        "\n",
        "df2 = SecondDeriv(y,a,b,N)\n",
        "\n",
        "plt.figure(figsize=[12,8])\n",
        "plt.plot(x,y,'b',x[1:],df,'r--',x[1:-1],df2,'g-.')\n",
        "#plt.plot(x,y,'b',x[1:],df,'k-.',)\n",
        "plt.grid()\n",
        "#plt.plot(x[1:-1], df)\n",
        "plt.legend(['f(x) = Trend in number of new infections','Rate of change', \"Rate of the Rate of Change\"])\n",
        "plt.show()\n"
      ],
      "metadata": {
        "id": "96Z9KpIDtatM",
        "outputId": "8816d669-c10a-402a-ea51-00086de24f8f",
        "colab": {
          "base_uri": "https://localhost:8080/",
          "height": 494
        }
      },
      "execution_count": null,
      "outputs": [
        {
          "output_type": "display_data",
          "data": {
            "text/plain": [
              "<Figure size 864x576 with 1 Axes>"
            ],
            "image/png": "[encoded data removed]"
          },
          "metadata": {
            "needs_background": "light"
          }
        }
      ]
    },
    {
      "cell_type": "markdown",
      "source": [
        "We can see from both the number of infections and it's derivative that in the past few decades, the number of HIV infections has decreased at a steady rate. We can also see that before 1995 or so, the infections were increasing, as the epidemic was still in full throttle and treatments lagged behind. However, in the early 90s, and especially in 1996 with the introduction of HAART, the number of new cases took a turn for the better as treatment started to work and became more widely available. Since then, care for HIV has only progressed, and kept the number of cases on a steady decline worldwide, as can be seen for the rate of change staying in the negatives throughout the 2000s and 2010s."
      ],
      "metadata": {
        "id": "zDVgZmHio4xx"
      }
    },
    {
      "cell_type": "code",
      "source": [],
      "metadata": {
        "id": "386qs0fmqKMs"
      },
      "execution_count": null,
      "outputs": []
    }
  ]
}