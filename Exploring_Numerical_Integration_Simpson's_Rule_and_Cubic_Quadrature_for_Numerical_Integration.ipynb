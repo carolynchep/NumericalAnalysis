{
  "nbformat": 4,
  "nbformat_minor": 0,
  "metadata": {
    "colab": {
      "provenance": [],
      "include_colab_link": true
    },
    "kernelspec": {
      "name": "python3",
      "display_name": "Python 3"
    },
    "language_info": {
      "name": "python"
    }
  },
  "cells": [
    {
      "cell_type": "markdown",
      "metadata": {
        "id": "view-in-github",
        "colab_type": "text"
      },
      "source": [
        "<a href=\"https://colab.research.google.com/github/carolynchep/NumericalAnalysis/blob/main/Exploring_Numerical_Integration_Simpson's_Rule_and_Cubic_Quadrature_for_Numerical_Integration.ipynb\" target=\"_parent\"><img src=\"https://colab.research.google.com/assets/colab-badge.svg\" alt=\"Open In Colab\"/></a>"
      ]
    },
    {
      "cell_type": "markdown",
      "source": [],
      "metadata": {
        "id": "lmNanASJLFvO"
      }
    },
    {
      "cell_type": "markdown",
      "source": [
        "Group: Carolyne, Sokona, Cros, Jacob"
      ],
      "metadata": {
        "id": "e15Q2HzRrLrf"
      }
    },
    {
      "cell_type": "markdown",
      "source": [
        "1) Show that Simpson’s rule is exact for f(x) = x^3. In a sentence or two,\n",
        "\n",
        "briefly state why this is somewhat of a surprise.\n",
        "\n",
        "\n",
        "I think whats suprising is that although, we used the quadrature rule to work exactly for constant, linear, and quadratic functions, it's EXACt for a cubic function as well, I wonder why, because that's not the case for #3, even though we changed the formula"
      ],
      "metadata": {
        "id": "xWBY6vQI1WN3"
      }
    },
    {
      "cell_type": "code",
      "execution_count": null,
      "metadata": {
        "colab": {
          "base_uri": "https://localhost:8080/"
        },
        "id": "2IzfpYpb1Dlz",
        "outputId": "ec4a5c56-cd2c-47de-9901-0201e2d1a9be"
      },
      "outputs": [
        {
          "output_type": "execute_result",
          "data": {
            "text/plain": [
              "20.249999999999996"
            ]
          },
          "metadata": {},
          "execution_count": 2
        }
      ],
      "source": [
        "#Simpsons rule\n",
        "import numpy as np\n",
        "\n",
        "def Simp(f,a,b,N):\n",
        "\n",
        "  #create lin space\n",
        "  x = np.linspace(a,b,N+1)\n",
        "\n",
        "  #define delta x\n",
        "  dx = x[1]-x[0]\n",
        "\n",
        "  #create an array with the areas A_j\n",
        "  #A=[]\n",
        "  A= [(dx/6) * (f(x[1:])+4*f((x[1:] + x[:-1])/2) + f(x[:-1]))] #fill in this formula using lists!\n",
        "\n",
        "\n",
        "  #sum up the areas A_j\n",
        "  I=np.sum(A)\n",
        "  return I\n",
        "\n",
        "f = lambda x: x**3\n",
        "\n",
        "a=0\n",
        "b=3\n",
        "N=10\n",
        "#Trap(f,a,b,N)\n",
        "Simp(f,a,b,N)"
      ]
    },
    {
      "cell_type": "markdown",
      "source": [
        "2) Replicate the process discussed in class to come up with a quadrature rule using piecewise cubic functions. Show all of the mathematics necessary to derive the algorithm.\n",
        "\\\n",
        "\\\n",
        "We want to approximate the integral of our function $f(x)$ with $\\int_{a}^{b} f(x) \\,dx = A_{1}f(a) + A_{2}f(m_{1}) + A_{3}f(m_{2}) + A_{4}f(b)$ where $a$ is our start point, $b$ is our end point, $m_{1}$ is one third the distance between $a$ and $b$, and $m_{2}$ is two thirds the distance between $a$ and $b$. We can calculate $m_{1} = a+ \\frac{1}{3}(b-a) = \\frac{(2a+b)}{3}$ and $m_{2} = a+ \\frac{2}{3}(b-a) = \\frac{(a+2b)}{3}$ given that $b>a$. We're going to solve for $A_{1}, A_{2}, A_{3}, A_{4}$ by setting up a system of equations with the constant, linear, quadratic, and cubic approximations of $\\int_{a}^{b} f(x) \\,dx$ and using a 4x4 matrix to solve the system of equations.\n",
        "\\\n",
        "\\\n",
        "Constant: \\\n",
        "$\\int_{a}^{b} 1 \\,dx = b-a$ \\\n",
        "$\\int_{a}^{b} 1 \\,dx = A_{1} + A_{2} + A_{3} + A_{4}$ \\\n",
        "\\\n",
        "Linear: \\\n",
        "$\\int_{a}^{b} x \\,dx = \\frac{b^2}{2}-\\frac{a^2}{2} = \\frac{b^2-a^2}{2}$ \\\n",
        "$\\int_{a}^{b} x \\,dx = A_{1}(a) + A_{2}(\\frac{(2a+b)}{3}) + A_{3}(\\frac{(a+2b)}{3}) + A_{4}(b)$ \\\n",
        "\\\n",
        "Quadratic: \\\n",
        "$\\int_{a}^{b} x^2 \\,dx = \\frac{b^3}{3}-\\frac{a^3}{3} = \\frac{b^3-a^3}{3}$ \\\n",
        "$\\int_{a}^{b} x^2 \\,dx = A_{1}(a^2) + A_{2}(\\frac{(2a+b)}{3})^2 + A_{3}(\\frac{(a+2b)}{3})^2 + A_{4}(b^2)$ \\\n",
        "\\\n",
        "Cubic: \\\n",
        "$\\int_{a}^{b} x^3 \\,dx = \\frac{b^4}{4}-\\frac{a^4}{4} = \\frac{b^4-a^4}{4}$ \\\n",
        "$\\int_{a}^{b} x^3 \\,dx = A_{1}(a^3) + A_{2}(\\frac{(2a+b)}{3})^3 + A_{3}(\\frac{(a+2b)}{3})^3 + A_{4}(b^3)$ \\\n",
        "\\\n",
        "System of Equations: \\\n",
        "$b-a = A_{1} + A_{2} + A_{3} + A_{4}$ \\\n",
        "$\\frac{b^2-a^2}{2} =  A_{1}(a) + A_{2}(\\frac{(2a+b)}{3}) + A_{3}(\\frac{(a+2b)}{3}) + A_{4}(b)$ \\\n",
        "$\\frac{b^3-a^3}{3} = A_{1}(a^2) + A_{2}(\\frac{(2a+b)}{3})^2 + A_{3}(\\frac{(a+2b)}{3})^2 + A_{4}(b^2)$ \\\n",
        "$\\frac{b^4-a^4}{4} = A_{1}(a^3) + A_{2}(\\frac{(2a+b)}{3})^3 + A_{3}(\\frac{(a+2b)}{3})^3 + A_{4}(b^3)$ \\\n",
        "\\\n",
        "We put this system of equations into a matrix and row reduce it to solve for $A_{1}, A_{2}, A_{3}, A_{4}$ as seen below.\\\n",
        "\\\n",
        "\\begin{bmatrix}\n",
        "1 & 1 & 1 & 1 & b-a \\\\\n",
        "a & (\\frac{(2a+b)}{3}) & (\\frac{(a+2b)}{3}) & b & \\frac{b^2-a^2}{2} \\\\\n",
        "a^2 & (\\frac{(2a+b)}{3})^2 & (\\frac{(a+2b)}{3})^2 & b^2 & \\frac{b^3-a^3}{3} \\\\\n",
        "a^3 & (\\frac{(2a+b)}{3})^3 & (\\frac{(a+2b)}{3})^3 & b^3 & \\frac{b^4-a^4}{4}\n",
        "\\end{bmatrix}\n",
        "\\\n",
        "After row reduction, we got the following matrix: \\\n",
        "\\\n",
        "\\begin{bmatrix}\n",
        "1 & 0 & 0 & 0 & \\frac{b-a}{8} \\\\\n",
        "0 & 1 & 0 & 0 & \\frac{3(b-a)}{8} \\\\\n",
        "0 & 0 & 1 & 0 & \\frac{3(b-a)}{8} \\\\\n",
        "0 & 0 & 0 & 1 & \\frac{b-a}{8}\n",
        "\\end{bmatrix}\n",
        "\\\n",
        "This result means that\n",
        "$A_{1} = \\frac{b-a}{8}$, $A_{2} = \\frac{3(b-a)}{8}$, $A_{3} = \\frac{3(b-a)}{8}$, and $A_{4} = \\frac{b-a}{8}$. Therefore we approximate our quadrature rule using piecewise cubic functions as: \\\n",
        "\\\n",
        "$\\int_{a}^{b} f(x) \\,dx = (\\frac{b-a}{8})f(a) + (\\frac{3(b-a)}{8})f(\\frac{(2a+b)}{3}) + (\\frac{3(b-a)}{8})f(\\frac{(a+2b)}{3}) + (\\frac{b-a}{8})f(b)$."
      ],
      "metadata": {
        "id": "kKEk85SP6EiH"
      }
    },
    {
      "cell_type": "markdown",
      "source": [
        "3) Check to see if your piecewise cubic approximate method derived in\n",
        "the previous question is exact for 4th degree polynomials."
      ],
      "metadata": {
        "id": "dV3egDrgA2EC"
      }
    },
    {
      "cell_type": "code",
      "source": [
        "import numpy as np\n",
        "import math\n",
        "\n",
        "def cubic(f,a,b):\n",
        "  A_1 = (b-a)/8\n",
        "  A_2 = 3*(b-a)/8\n",
        "  A_3 = 3*(b-a)/8\n",
        "  A_4 = (b-a)/8\n",
        "\n",
        "  return A_1 * f(a) + A_2 * f((2*a+b)/3) + A_3 * f((a+2*b)/3) + A_4 * f(b)\n",
        "\n",
        "f = lambda x: x**4 + 2*x**3 - 5*x**2 - 3*x + 4\n",
        "\n",
        "cubic(f,1,4)"
      ],
      "metadata": {
        "id": "R0VQawcFFsaN",
        "outputId": "96de9556-d465-4e5e-9c94-49ce98ffa292",
        "colab": {
          "base_uri": "https://localhost:8080/"
        }
      },
      "execution_count": null,
      "outputs": [
        {
          "output_type": "execute_result",
          "data": {
            "text/plain": [
              "217.5"
            ]
          },
          "metadata": {},
          "execution_count": 18
        }
      ]
    },
    {
      "cell_type": "markdown",
      "source": [
        "The exact integral of this function from $1$ to $4$ is $216.6$, so our cubic approximation is not exact for a 4th degree polynomial."
      ],
      "metadata": {
        "id": "ztvukJg8BBqo"
      }
    },
    {
      "cell_type": "markdown",
      "source": [
        "Question 4:"
      ],
      "metadata": {
        "id": "4E4o-738_mTa"
      }
    },
    {
      "cell_type": "code",
      "source": [
        "import numpy as np\n",
        "import matplotlib.pyplot as plt\n",
        "\n",
        "def cubic_plot(f,a,b,N):\n",
        "  x = np.linspace(a,b,N+1)\n",
        "  h = x[1]-x[0]\n",
        "  Area = []\n",
        "\n",
        "  for i in range(N):\n",
        "    a = x[i]\n",
        "    b = x[i+1]\n",
        "\n",
        "    A_1 = (b-a)/8\n",
        "    A_2 = 3*(b-a)/8\n",
        "    A_3 = 3*(b-a)/8\n",
        "    A_4 = (b-a)/8\n",
        "\n",
        "    Area.append( A_1 * f(a) + A_2 * f((2*a+b)/3) + A_3 * f((a+2*b)/3) + A_4 * f(b) )\n",
        "\n",
        "  return sum(Area)\n",
        "\n",
        "\n",
        "f = lambda x : np.exp(3*x)*np.sin(2*x)\n",
        "exact = 3/13 * np.exp(3*np.pi/4) + 2/13\n",
        "cubic_plot(f,0,np.pi/4,10)\n",
        "\n",
        "H = 2.0**np.arange(1,11)\n",
        "AbsPctError = []\n",
        "\n",
        "for h in H:\n",
        "  approx = cubic_plot(f,0,np.pi/4,int(h))\n",
        "  AbsPctError.append(np.abs(approx-exact)/exact)\n",
        "\n",
        "plt.loglog(H**(-1) , AbsPctError, 'b-*')\n",
        "plt.grid()\n",
        "plt.suptitle(\"Absolute Error vs. Width of subinterval\")\n",
        "plt.xlabel(\"Subinterval width\")\n",
        "plt.ylabel(\"Absolute Error\")\n",
        "plt.show()"
      ],
      "metadata": {
        "id": "avr-NhsV_y0y",
        "colab": {
          "base_uri": "https://localhost:8080/",
          "height": 312
        },
        "outputId": "8d27d3ab-9a8a-4c0a-bbaf-608971ec94e8"
      },
      "execution_count": null,
      "outputs": [
        {
          "output_type": "display_data",
          "data": {
            "text/plain": [
              "<Figure size 432x288 with 1 Axes>"
            ],
            "image/png": "[encoded data removed]"
          },
          "metadata": {
            "needs_background": "light"
          }
        }
      ]
    },
    {
      "cell_type": "markdown",
      "source": [
        "The approximate order of error for this method seems to be four based on this plot because the absolute error falls four times as fast as the subinterval width on a loglog plot."
      ],
      "metadata": {
        "id": "XUpPiehmus4F"
      }
    },
    {
      "cell_type": "markdown",
      "source": [
        "5) In a few sentences, discuss the following statement found on the Wikipedia\n",
        "page for numerical quadrature: \"In practice, since polynomials of very high degree tend to oscillate wildly, only polynomials of low degree are used, typically linear and quadratic.\" \\\n",
        "\\\n",
        "An n-th degree polynomial can have up to n-1 turning points. A linear function has no turning points, a quadratic function has one turning point (concave up vs down), a cubic function has up to two changes in concavity, etc. Higher degree polynomials can oscillate more wildly over small intervals because they have more potential turning points, and this oscillation makes estimating with them more complicated. Linear and quadratic polynomials are used more often for quadrature because linear and quadratic functions are less eratic."
      ],
      "metadata": {
        "id": "9wWHacHfxtTF"
      }
    }
  ]
}